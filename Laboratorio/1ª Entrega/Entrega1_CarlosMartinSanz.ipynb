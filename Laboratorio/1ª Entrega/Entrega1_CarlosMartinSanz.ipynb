{
 "cells": [
  {
   "cell_type": "markdown",
   "metadata": {},
   "source": [
    "### ENTREGA 1 "
   ]
  },
  {
   "cell_type": "markdown",
   "metadata": {},
   "source": [
    "###### Carlos Martín Sanz\n",
    "###### 4º Mención Computación - Grado Ingeniería Informática"
   ]
  },
  {
   "cell_type": "code",
   "execution_count": 100,
   "metadata": {},
   "outputs": [],
   "source": [
    "#   ------------------------------------------------------   #"
   ]
  },
  {
   "cell_type": "code",
   "execution_count": 101,
   "metadata": {},
   "outputs": [],
   "source": [
    "#                       EJERCICIO 1                          #"
   ]
  },
  {
   "cell_type": "code",
   "execution_count": 102,
   "metadata": {},
   "outputs": [],
   "source": [
    "#   ------------------------------------------------------   #"
   ]
  },
  {
   "cell_type": "code",
   "execution_count": 103,
   "metadata": {},
   "outputs": [],
   "source": [
    "# Definimos un cuerpo finito con GF, aunque con FiniteField también se puede\n",
    "\n",
    "# Cuerpo finito con q elementos q = 7\n",
    "q = 7\n",
    "C1 = FiniteField(q,'X')"
   ]
  },
  {
   "cell_type": "code",
   "execution_count": 104,
   "metadata": {},
   "outputs": [
    {
     "name": "stdout",
     "output_type": "stream",
     "text": [
      "0\n",
      "1\n",
      "2\n",
      "3\n",
      "4\n",
      "5\n",
      "6\n"
     ]
    }
   ],
   "source": [
    "# Representar los elementos del cuerpo finito\n",
    "for i in C1:\n",
    "    print(i)"
   ]
  },
  {
   "cell_type": "code",
   "execution_count": 105,
   "metadata": {},
   "outputs": [],
   "source": [
    "# Suma elementos cuerpo finito\n",
    "\n",
    "Suma = matrix(q)\n",
    "\n",
    "for i in range (q):\n",
    "    for j in range(q):\n",
    "        Suma[i,j] = C1(i) + C1(j)"
   ]
  },
  {
   "cell_type": "markdown",
   "metadata": {},
   "source": [
    "##### TABLA SUMA DE LOS ELEMENTOS DE F7 "
   ]
  },
  {
   "cell_type": "code",
   "execution_count": 106,
   "metadata": {},
   "outputs": [
    {
     "data": {
      "text/plain": [
       "[0 1 2 3 4 5 6]\n",
       "[1 2 3 4 5 6 0]\n",
       "[2 3 4 5 6 0 1]\n",
       "[3 4 5 6 0 1 2]\n",
       "[4 5 6 0 1 2 3]\n",
       "[5 6 0 1 2 3 4]\n",
       "[6 0 1 2 3 4 5]"
      ]
     },
     "execution_count": 106,
     "metadata": {},
     "output_type": "execute_result"
    }
   ],
   "source": [
    "Suma"
   ]
  },
  {
   "cell_type": "code",
   "execution_count": 107,
   "metadata": {},
   "outputs": [],
   "source": [
    "# Multiplicación elementos cuerpo finito\n",
    "\n",
    "Multiplicacion = matrix(q)\n",
    "\n",
    "for i in range (q):\n",
    "    for j in range(q):\n",
    "        Multiplicacion[i,j] = C1(i) * C1(j)"
   ]
  },
  {
   "cell_type": "markdown",
   "metadata": {},
   "source": [
    "##### TABLA MULTIPLICACION DE LOS ELEMENTOS DE F7  "
   ]
  },
  {
   "cell_type": "code",
   "execution_count": 108,
   "metadata": {},
   "outputs": [
    {
     "data": {
      "text/plain": [
       "[0 0 0 0 0 0 0]\n",
       "[0 1 2 3 4 5 6]\n",
       "[0 2 4 6 1 3 5]\n",
       "[0 3 6 2 5 1 4]\n",
       "[0 4 1 5 2 6 3]\n",
       "[0 5 3 1 6 4 2]\n",
       "[0 6 5 4 3 2 1]"
      ]
     },
     "execution_count": 108,
     "metadata": {},
     "output_type": "execute_result"
    }
   ],
   "source": [
    "Multiplicacion"
   ]
  },
  {
   "cell_type": "code",
   "execution_count": 109,
   "metadata": {},
   "outputs": [
    {
     "name": "stdout",
     "output_type": "stream",
     "text": [
      "0 0\n",
      "1 a\n",
      "2 a + 4\n",
      "3 5*a + 4\n",
      "4 2*a + 6\n",
      "5 a + 1\n",
      "6 2*a + 4\n",
      "7 6*a + 1\n",
      "8 3\n",
      "9 3*a\n",
      "10 3*a + 5\n",
      "11 a + 5\n",
      "12 6*a + 4\n",
      "13 3*a + 3\n",
      "14 6*a + 5\n",
      "15 4*a + 3\n",
      "16 2\n",
      "17 2*a\n",
      "18 2*a + 1\n",
      "19 3*a + 1\n",
      "20 4*a + 5\n",
      "21 2*a + 2\n",
      "22 4*a + 1\n",
      "23 5*a + 2\n",
      "24 6\n",
      "25 6*a\n",
      "26 6*a + 3\n",
      "27 2*a + 3\n",
      "28 5*a + 1\n",
      "29 6*a + 6\n",
      "30 5*a + 3\n",
      "31 a + 6\n",
      "32 4\n",
      "33 4*a\n",
      "34 4*a + 2\n",
      "35 6*a + 2\n",
      "36 a + 3\n",
      "37 4*a + 4\n",
      "38 a + 2\n",
      "39 3*a + 4\n",
      "40 5\n",
      "41 5*a\n",
      "42 5*a + 6\n",
      "43 4*a + 6\n",
      "44 3*a + 2\n",
      "45 5*a + 5\n",
      "46 3*a + 6\n",
      "47 2*a + 5\n",
      "48 1\n"
     ]
    }
   ],
   "source": [
    "# Ahora un cuerpo finito potencia de un numero primo de elementos\n",
    "q = 7^2\n",
    "C = GF(q,'a')\n",
    "a = C.0\n",
    "\n",
    "for i,x in enumerate(C):\n",
    "    print(\"{} {}\".format(i, x))"
   ]
  },
  {
   "cell_type": "code",
   "execution_count": 110,
   "metadata": {},
   "outputs": [
    {
     "name": "stdout",
     "output_type": "stream",
     "text": [
      "Potencia de alpha      |      Polinomio\n",
      "\n",
      "a^ 0                   |       1\n",
      "a^ 1                   |       a\n",
      "a^ 2                   |       a + 4\n",
      "a^ 3                   |       5*a + 4\n",
      "a^ 4                   |       2*a + 6\n",
      "a^ 5                   |       a + 1\n",
      "a^ 6                   |       2*a + 4\n",
      "a^ 7                   |       6*a + 1\n",
      "a^ 8                   |       3\n",
      "a^ 9                   |       3*a\n",
      "a^ 10                  |       3*a + 5\n",
      "a^ 11                  |       a + 5\n",
      "a^ 12                  |       6*a + 4\n",
      "a^ 13                  |       3*a + 3\n",
      "a^ 14                  |       6*a + 5\n",
      "a^ 15                  |       4*a + 3\n",
      "a^ 16                  |       2\n",
      "a^ 17                  |       2*a\n",
      "a^ 18                  |       2*a + 1\n",
      "a^ 19                  |       3*a + 1\n",
      "a^ 20                  |       4*a + 5\n",
      "a^ 21                  |       2*a + 2\n",
      "a^ 22                  |       4*a + 1\n",
      "a^ 23                  |       5*a + 2\n",
      "a^ 24                  |       6\n",
      "a^ 25                  |       6*a\n",
      "a^ 26                  |       6*a + 3\n",
      "a^ 27                  |       2*a + 3\n",
      "a^ 28                  |       5*a + 1\n",
      "a^ 29                  |       6*a + 6\n",
      "a^ 30                  |       5*a + 3\n",
      "a^ 31                  |       a + 6\n",
      "a^ 32                  |       4\n",
      "a^ 33                  |       4*a\n",
      "a^ 34                  |       4*a + 2\n",
      "a^ 35                  |       6*a + 2\n",
      "a^ 36                  |       a + 3\n",
      "a^ 37                  |       4*a + 4\n",
      "a^ 38                  |       a + 2\n",
      "a^ 39                  |       3*a + 4\n",
      "a^ 40                  |       5\n",
      "a^ 41                  |       5*a\n",
      "a^ 42                  |       5*a + 6\n",
      "a^ 43                  |       4*a + 6\n",
      "a^ 44                  |       3*a + 2\n",
      "a^ 45                  |       5*a + 5\n",
      "a^ 46                  |       3*a + 6\n"
     ]
    }
   ],
   "source": [
    "print(\"Potencia de alpha      |      Polinomio\\n\")\n",
    "for h in range(q-2):\n",
    "    if h < 10 :\n",
    "        print(\"a^\",h,\"                  |      \",a^h)\n",
    "    else:\n",
    "        print(\"a^\",h,\"                 |      \",a^h)\n"
   ]
  },
  {
   "cell_type": "code",
   "execution_count": 111,
   "metadata": {},
   "outputs": [
    {
     "name": "stdout",
     "output_type": "stream",
     "text": [
      "La suma de  4*a + 2  y  5*a + 4  es  2*a + 6\n"
     ]
    }
   ],
   "source": [
    "# Como ahora la suma de todos los elementos en una tabla igual que antes\n",
    "# es una tabla muy grande, voy a hacer la suma y multiplicacion para dos\n",
    "# elementos random\n",
    "\n",
    "elemento1 = C.random_element()\n",
    "elemento2 = C.random_element()\n",
    "\n",
    "print(\"La suma de \", elemento1, \" y \", elemento2, \" es \", elemento1 + elemento2)"
   ]
  },
  {
   "cell_type": "code",
   "execution_count": 112,
   "metadata": {},
   "outputs": [
    {
     "name": "stdout",
     "output_type": "stream",
     "text": [
      "La multiplicación de  6  y  3*a  es  4*a\n"
     ]
    }
   ],
   "source": [
    "# Y lo mismo para la multiplicación, elijo dos elementos random y los multiplico\n",
    "\n",
    "elemento3 = C.random_element()\n",
    "elemento4 = C.random_element()\n",
    "\n",
    "print(\"La multiplicación de \", elemento3, \" y \", elemento4, \" es \", elemento3 * elemento4)"
   ]
  },
  {
   "cell_type": "markdown",
   "metadata": {},
   "source": [
    "### ------------------------------------------------------------------------------------------"
   ]
  },
  {
   "cell_type": "code",
   "execution_count": 113,
   "metadata": {},
   "outputs": [],
   "source": [
    "#   ------------------------------------------------------   #"
   ]
  },
  {
   "cell_type": "code",
   "execution_count": 114,
   "metadata": {},
   "outputs": [],
   "source": [
    "#                       EJERCICIO 2                          #"
   ]
  },
  {
   "cell_type": "code",
   "execution_count": 115,
   "metadata": {},
   "outputs": [],
   "source": [
    "#   ------------------------------------------------------   #"
   ]
  },
  {
   "cell_type": "code",
   "execution_count": 116,
   "metadata": {},
   "outputs": [
    {
     "data": {
      "text/plain": [
       "Finite Field of size 5"
      ]
     },
     "execution_count": 116,
     "metadata": {},
     "output_type": "execute_result"
    }
   ],
   "source": [
    "# Defino el cuerpo finito\n",
    "# Como es sobre cualquier ejemplo cojo la matriz y el cuerpo finito \n",
    "# del examen parcial 2022\n",
    "F = GF(5)\n",
    "F"
   ]
  },
  {
   "cell_type": "code",
   "execution_count": 117,
   "metadata": {},
   "outputs": [
    {
     "name": "stdout",
     "output_type": "stream",
     "text": [
      "-->  Finite Field in a of size 2^3\n",
      "-->  Finite Field in b of size 2^3\n"
     ]
    }
   ],
   "source": [
    "# Definir cuerpo finito en a\n",
    "K.<a>=GF(8)\n",
    "print(\"--> \",K)\n",
    "\n",
    "# Otra forma de definirlo\n",
    "KK = GF(8,'b')\n",
    "print(\"--> \",KK)"
   ]
  },
  {
   "cell_type": "code",
   "execution_count": 118,
   "metadata": {},
   "outputs": [],
   "source": [
    "# Y creo una matriz, con 2 vectores que definen el codigo lineal\n",
    "M = matrix(F,[[1,1,1,1],[1,2,3,4]])"
   ]
  },
  {
   "cell_type": "code",
   "execution_count": 119,
   "metadata": {},
   "outputs": [
    {
     "data": {
      "text/plain": [
       "[4, 2] linear code over GF(5)"
      ]
     },
     "execution_count": 119,
     "metadata": {},
     "output_type": "execute_result"
    }
   ],
   "source": [
    "# Ahora defino el codigo dado por la matriz de vectores anterior\n",
    "C = LinearCode(M)\n",
    "C"
   ]
  },
  {
   "cell_type": "code",
   "execution_count": 120,
   "metadata": {},
   "outputs": [
    {
     "name": "stdout",
     "output_type": "stream",
     "text": [
      "Parámetros de C = [n,k,d] = [ 4 , 2 , 3 ]\n"
     ]
    }
   ],
   "source": [
    "# Ahora hallamos los parametros del codigo\n",
    "\n",
    "# longitud\n",
    "n = C.length()\n",
    "\n",
    "# dimension\n",
    "k = C.dimension()\n",
    "\n",
    "# distancia\n",
    "d = C.minimum_distance()\n",
    "\n",
    "print(\"Parámetros de C = [n,k,d] = [\",n,\",\",k,\",\",d,\"]\")"
   ]
  },
  {
   "cell_type": "code",
   "execution_count": 121,
   "metadata": {},
   "outputs": [
    {
     "data": {
      "text/plain": [
       "[1 1 1 1]\n",
       "[1 2 3 4]"
      ]
     },
     "execution_count": 121,
     "metadata": {},
     "output_type": "execute_result"
    }
   ],
   "source": [
    "# Ahora hallamos la matriz generadora del codigo que llamo G\n",
    "G = C.generator_matrix()\n",
    "G"
   ]
  },
  {
   "cell_type": "code",
   "execution_count": 122,
   "metadata": {},
   "outputs": [
    {
     "data": {
      "text/plain": [
       "[1 0 2 2]\n",
       "[0 1 3 1]"
      ]
     },
     "execution_count": 122,
     "metadata": {},
     "output_type": "execute_result"
    }
   ],
   "source": [
    "# Ahora una de las posibles matrices de control que llamo H\n",
    "H = C.parity_check_matrix()\n",
    "H"
   ]
  },
  {
   "cell_type": "code",
   "execution_count": 123,
   "metadata": {},
   "outputs": [],
   "source": [
    "### OTRA OPCIÓN ##\n",
    "\n",
    "# Hallamos el codigo dual de C y obtenemos la matriz generadora de este\n",
    "# ya que la generadora del codigo dual es la matriz de control del original"
   ]
  },
  {
   "cell_type": "code",
   "execution_count": 124,
   "metadata": {},
   "outputs": [
    {
     "data": {
      "text/plain": [
       "[4, 2] linear code over GF(5)"
      ]
     },
     "execution_count": 124,
     "metadata": {},
     "output_type": "execute_result"
    }
   ],
   "source": [
    "# Codigo dual de C\n",
    "D = C.dual_code()\n",
    "D"
   ]
  },
  {
   "cell_type": "code",
   "execution_count": 125,
   "metadata": {},
   "outputs": [
    {
     "data": {
      "text/plain": [
       "[1 0 2 2]\n",
       "[0 1 3 1]"
      ]
     },
     "execution_count": 125,
     "metadata": {},
     "output_type": "execute_result"
    }
   ],
   "source": [
    "# Como se puede ver se obtiene la misma matriz de control\n",
    "G2 = D.generator_matrix()\n",
    "G2"
   ]
  },
  {
   "cell_type": "code",
   "execution_count": 126,
   "metadata": {},
   "outputs": [
    {
     "name": "stdout",
     "output_type": "stream",
     "text": [
      "Polinomio con dos variables -->  8*x^4 + 16*x^3*y + y^4\n",
      "Polinomio de pesos final (y = 1) -->  8*x^4 + 16*x^3 + 1\n"
     ]
    }
   ],
   "source": [
    "# Polinomio de pesos, aunque con 2 variables\n",
    "polinomio = C.weight_enumerator()\n",
    "print(\"Polinomio con dos variables --> \", polinomio)\n",
    "\n",
    "# Para crear el verdadero polinomio de pesos la y = 1\n",
    "print(\"Polinomio de pesos final (y = 1) --> \", polinomio(y=1))"
   ]
  },
  {
   "cell_type": "code",
   "execution_count": 127,
   "metadata": {},
   "outputs": [
    {
     "data": {
      "text/plain": [
       "[1, 0, 0, 16, 8]"
      ]
     },
     "execution_count": 127,
     "metadata": {},
     "output_type": "execute_result"
    }
   ],
   "source": [
    "# Coeficientes del polinomio de pesos\n",
    "C.weight_distribution()"
   ]
  },
  {
   "cell_type": "code",
   "execution_count": 128,
   "metadata": {},
   "outputs": [
    {
     "data": {
      "text/plain": [
       "[0 0]\n",
       "[0 0]"
      ]
     },
     "execution_count": 128,
     "metadata": {},
     "output_type": "execute_result"
    }
   ],
   "source": [
    "# Relacion entre la matriz generadora y de control\n",
    "G*(H.transpose())"
   ]
  },
  {
   "cell_type": "code",
   "execution_count": 129,
   "metadata": {},
   "outputs": [
    {
     "data": {
      "text/plain": [
       "(3, 4, 0, 1)"
      ]
     },
     "execution_count": 129,
     "metadata": {},
     "output_type": "execute_result"
    }
   ],
   "source": [
    "                        ##### Descodificacion ######\n",
    "\n",
    "# Elegimos una palabra del código\n",
    "pc = C.random_element()\n",
    "pc"
   ]
  },
  {
   "cell_type": "code",
   "execution_count": 130,
   "metadata": {},
   "outputs": [
    {
     "data": {
      "text/plain": [
       "1"
      ]
     },
     "execution_count": 130,
     "metadata": {},
     "output_type": "execute_result"
    }
   ],
   "source": [
    "# Capacidad correctora del código C\n",
    "capacidad = math.floor((d-1)/2)\n",
    "capacidad"
   ]
  },
  {
   "cell_type": "code",
   "execution_count": 131,
   "metadata": {},
   "outputs": [
    {
     "data": {
      "text/plain": [
       "(3, 4, 3, 1)"
      ]
     },
     "execution_count": 131,
     "metadata": {},
     "output_type": "execute_result"
    }
   ],
   "source": [
    "# Ahora defino r --> palabra pc introduciendo un error\n",
    "err = vector(GF(5),[0,0,3,0])\n",
    "r = pc + err\n",
    "r"
   ]
  },
  {
   "cell_type": "code",
   "execution_count": 132,
   "metadata": {},
   "outputs": [
    {
     "data": {
      "text/plain": [
       "(3, 4, 0, 1)"
      ]
     },
     "execution_count": 132,
     "metadata": {},
     "output_type": "execute_result"
    }
   ],
   "source": [
    "# Decodificamos r\n",
    "r_dec = C.decode_to_code(r)\n",
    "r_dec"
   ]
  },
  {
   "cell_type": "code",
   "execution_count": 133,
   "metadata": {},
   "outputs": [
    {
     "name": "stdout",
     "output_type": "stream",
     "text": [
      "Palabras iguales\n"
     ]
    }
   ],
   "source": [
    "# Vemos que r_dec = pc\n",
    "if r_dec != pc:\n",
    "    print(\"Palabras distintas\")\n",
    "else:\n",
    "    print(\"Palabras iguales\")"
   ]
  },
  {
   "cell_type": "markdown",
   "metadata": {},
   "source": [
    "##### Como se puede ver el numero de errores introducido es 1 = capacidad correctora por ello es capaz de decodificar correctamente. "
   ]
  },
  {
   "cell_type": "code",
   "execution_count": 134,
   "metadata": {},
   "outputs": [
    {
     "data": {
      "text/plain": [
       "(1, 4, 2, 1)"
      ]
     },
     "execution_count": 134,
     "metadata": {},
     "output_type": "execute_result"
    }
   ],
   "source": [
    "# Ahora defino r2 --> palabra pc pero introduciendo 2 errores\n",
    "err2 = vector(GF(5),[3,0,2,0])\n",
    "r2 = pc + err2\n",
    "r2"
   ]
  },
  {
   "cell_type": "code",
   "execution_count": 135,
   "metadata": {},
   "outputs": [
    {
     "data": {
      "text/plain": [
       "(1, 4, 2, 0)"
      ]
     },
     "execution_count": 135,
     "metadata": {},
     "output_type": "execute_result"
    }
   ],
   "source": [
    "# Decodificamos r2\n",
    "r_dec2 = C.decode_to_code(r2)\n",
    "r_dec2"
   ]
  },
  {
   "cell_type": "code",
   "execution_count": 136,
   "metadata": {},
   "outputs": [
    {
     "name": "stdout",
     "output_type": "stream",
     "text": [
      "Palabras distintas\n"
     ]
    }
   ],
   "source": [
    "# Vemos que r_dec2 != pc\n",
    "if r_dec2 != pc:\n",
    "    print(\"Palabras distintas\")\n",
    "else:\n",
    "    print(\"Palabras iguales\")"
   ]
  },
  {
   "cell_type": "markdown",
   "metadata": {},
   "source": [
    "##### Como se puede ver el numero de errores introducido es 2 > capacidad correctora por ello no es capaz de descodificar correctamente, y no descodifica por la palabra que hemos elegido de manera aleatoria \"pc\" (palabra codigo) sino por otra, es decir, cambia de bola \"utilizando el simil de las bolas utilizado en clase\""
   ]
  },
  {
   "cell_type": "code",
   "execution_count": 137,
   "metadata": {},
   "outputs": [
    {
     "data": {
      "text/plain": [
       "(1, 1)"
      ]
     },
     "execution_count": 137,
     "metadata": {},
     "output_type": "execute_result"
    }
   ],
   "source": [
    "                    # OTRO EJEMPLO DECODIFICACION ERRONEA\n",
    "    \n",
    "# Ahora supongo que me dan un vector m que no esta ni codificado\n",
    "m= vector(GF(5),[1,1])\n",
    "m"
   ]
  },
  {
   "cell_type": "code",
   "execution_count": 138,
   "metadata": {},
   "outputs": [
    {
     "data": {
      "text/plain": [
       "(2, 3, 4, 0)"
      ]
     },
     "execution_count": 138,
     "metadata": {},
     "output_type": "execute_result"
    }
   ],
   "source": [
    "# Lo codificamos \n",
    "mcod = m * G\n",
    "mcod"
   ]
  },
  {
   "cell_type": "code",
   "execution_count": 139,
   "metadata": {},
   "outputs": [
    {
     "data": {
      "text/plain": [
       "(0, 0)"
      ]
     },
     "execution_count": 139,
     "metadata": {},
     "output_type": "execute_result"
    }
   ],
   "source": [
    "# Comprobamos que hemos codificado bien multiplicando H * mcod y obtenemos 0 (vector)\n",
    "H * mcod"
   ]
  },
  {
   "cell_type": "code",
   "execution_count": 140,
   "metadata": {},
   "outputs": [
    {
     "data": {
      "text/plain": [
       "(2, 2, 4, 1)"
      ]
     },
     "execution_count": 140,
     "metadata": {},
     "output_type": "execute_result"
    }
   ],
   "source": [
    "# Ahora metemos 2 errores\n",
    "r2 = vector(GF(5),[2,2,4,1])\n",
    "r2"
   ]
  },
  {
   "cell_type": "code",
   "execution_count": 141,
   "metadata": {},
   "outputs": [],
   "source": [
    "decodif = C.decode_to_code(r2)"
   ]
  },
  {
   "cell_type": "code",
   "execution_count": 142,
   "metadata": {},
   "outputs": [
    {
     "name": "stdout",
     "output_type": "stream",
     "text": [
      "Palabras distintas\n"
     ]
    }
   ],
   "source": [
    "# Decodificacion errónea\n",
    "# Vemos que r2 != decodif\n",
    "if r2 != decodif:\n",
    "    print(\"Palabras distintas\")\n",
    "else:\n",
    "    print(\"Palabras iguales\")"
   ]
  },
  {
   "cell_type": "markdown",
   "metadata": {},
   "source": [
    "##### Como se puede ver el numero de errores introducido es 2 > capacidad correctora por ello no es capaz de descodificar correctamente, y no descodifica por la palabra que hemos elegido mcod (palabra codigo) sino por otra, es decir, cambia de bola \"utilizando el simil de las bolas utilizado en clase\""
   ]
  },
  {
   "cell_type": "markdown",
   "metadata": {},
   "source": [
    "### ------------------------------------------------------------------------------------------"
   ]
  },
  {
   "cell_type": "code",
   "execution_count": 143,
   "metadata": {},
   "outputs": [],
   "source": [
    "# ---------------------------- EJERCICIO 3 ---------------------------- #"
   ]
  },
  {
   "cell_type": "markdown",
   "metadata": {},
   "source": [
    "## ----------------------------------            3.1            --------------------------------------"
   ]
  },
  {
   "cell_type": "code",
   "execution_count": 144,
   "metadata": {},
   "outputs": [],
   "source": [
    "# Definimos cuerpo finito 11\n",
    "\n",
    "C = GF(11)"
   ]
  },
  {
   "cell_type": "code",
   "execution_count": 145,
   "metadata": {},
   "outputs": [],
   "source": [
    "# Parametros del código que indica el enunciado\n",
    "\n",
    "n = 10\n",
    "d = 6\n",
    "k = 5"
   ]
  },
  {
   "cell_type": "code",
   "execution_count": 146,
   "metadata": {},
   "outputs": [
    {
     "data": {
      "text/plain": [
       "2"
      ]
     },
     "execution_count": 146,
     "metadata": {},
     "output_type": "execute_result"
    }
   ],
   "source": [
    "# Hallamos la capacidad correctora del codigo\n",
    "\n",
    "t = math.floor((d-1)/2)\n",
    "t"
   ]
  },
  {
   "cell_type": "code",
   "execution_count": 147,
   "metadata": {},
   "outputs": [
    {
     "data": {
      "text/plain": [
       "(7, 3)"
      ]
     },
     "execution_count": 147,
     "metadata": {},
     "output_type": "execute_result"
    }
   ],
   "source": [
    "# Ahora definimos l0 y l1\n",
    "\n",
    "l0 = n - 1 - t\n",
    "l1 = n - 1 - t - (k - 1)\n",
    "\n",
    "# Printeamos y vamos que l0=7 y l1=3 como indica el enunciado\n",
    "l0,l1"
   ]
  },
  {
   "cell_type": "code",
   "execution_count": 148,
   "metadata": {},
   "outputs": [
    {
     "data": {
      "text/plain": [
       "([5, 9, 0, 9, 0, 1, 0, 7, 0, 5], [1, 2, 4, 8, 5, 10, 9, 7, 3, 6])"
      ]
     },
     "execution_count": 148,
     "metadata": {},
     "output_type": "execute_result"
    }
   ],
   "source": [
    "# Defino el vector r que es la palabra recibida\n",
    "\n",
    "r = [5,9,0,9,0,1,0,7,0,5]\n",
    "\n",
    "# Y el vector de x\n",
    "\n",
    "x = []\n",
    "for k in range(10):\n",
    "    x.append((2^k)%11)\n",
    "\n",
    "r,x"
   ]
  },
  {
   "cell_type": "code",
   "execution_count": 149,
   "metadata": {},
   "outputs": [
    {
     "data": {
      "text/plain": [
       "12"
      ]
     },
     "execution_count": 149,
     "metadata": {},
     "output_type": "execute_result"
    }
   ],
   "source": [
    "# Hallamos el numero de variables que tenemos\n",
    "\n",
    "var = (l0 + 1) + (l1 + 1)\n",
    "var"
   ]
  },
  {
   "cell_type": "code",
   "execution_count": 150,
   "metadata": {},
   "outputs": [
    {
     "data": {
      "text/plain": [
       "[0 0 0 0 0 0 0 0 0 0 0 0]\n",
       "[0 0 0 0 0 0 0 0 0 0 0 0]\n",
       "[0 0 0 0 0 0 0 0 0 0 0 0]\n",
       "[0 0 0 0 0 0 0 0 0 0 0 0]\n",
       "[0 0 0 0 0 0 0 0 0 0 0 0]\n",
       "[0 0 0 0 0 0 0 0 0 0 0 0]\n",
       "[0 0 0 0 0 0 0 0 0 0 0 0]\n",
       "[0 0 0 0 0 0 0 0 0 0 0 0]\n",
       "[0 0 0 0 0 0 0 0 0 0 0 0]\n",
       "[0 0 0 0 0 0 0 0 0 0 0 0]"
      ]
     },
     "execution_count": 150,
     "metadata": {},
     "output_type": "execute_result"
    }
   ],
   "source": [
    "# Ahora creo la matriz generadora vacia de tamaño adecuado 12x10, rellena de 0\n",
    "\n",
    "M = matrix(C,[[0]*var]*n)\n",
    "\n",
    "M"
   ]
  },
  {
   "cell_type": "code",
   "execution_count": 151,
   "metadata": {},
   "outputs": [
    {
     "data": {
      "text/plain": [
       "[ 1  1  1  1  1  1  1  1  0  0  0  0]\n",
       "[ 1  2  4  8  5 10  9  7  0  0  0  0]\n",
       "[ 1  4  5  9  3  1  4  5  0  0  0  0]\n",
       "[ 1  8  9  6  4 10  3  2  0  0  0  0]\n",
       "[ 1  5  3  4  9  1  5  3  0  0  0  0]\n",
       "[ 1 10  1 10  1 10  1 10  0  0  0  0]\n",
       "[ 1  9  4  3  5  1  9  4  0  0  0  0]\n",
       "[ 1  7  5  2  3 10  4  6  0  0  0  0]\n",
       "[ 1  3  9  5  4  1  3  9  0  0  0  0]\n",
       "[ 1  6  3  7  9 10  5  8  0  0  0  0]"
      ]
     },
     "execution_count": 151,
     "metadata": {},
     "output_type": "execute_result"
    }
   ],
   "source": [
    "# Hasta aqui relleno la primera parte de la matriz M\n",
    "# Introduzco mod11 puesto que el cuerpo finito es 11\n",
    "\n",
    "for i in range(l0+1):\n",
    "    for j in range(n):\n",
    "        M[j,i] = ((x[j]^i)%11)\n",
    "M"
   ]
  },
  {
   "cell_type": "code",
   "execution_count": 152,
   "metadata": {},
   "outputs": [
    {
     "data": {
      "text/plain": [
       "[ 1  1  1  1  1  1  1  1  5  5  5  5]\n",
       "[ 1  2  4  8  5 10  9  7  9  7  3  6]\n",
       "[ 1  4  5  9  3  1  4  5  0  0  0  0]\n",
       "[ 1  8  9  6  4 10  3  2  9  6  4 10]\n",
       "[ 1  5  3  4  9  1  5  3  0  0  0  0]\n",
       "[ 1 10  1 10  1 10  1 10  1 10  1 10]\n",
       "[ 1  9  4  3  5  1  9  4  0  0  0  0]\n",
       "[ 1  7  5  2  3 10  4  6  7  5  2  3]\n",
       "[ 1  3  9  5  4  1  3  9  0  0  0  0]\n",
       "[ 1  6  3  7  9 10  5  8  5  8  4  2]"
      ]
     },
     "execution_count": 152,
     "metadata": {},
     "output_type": "execute_result"
    }
   ],
   "source": [
    "# Rellena segunda parte de la matriz desde l0+1 hasta nº variables\n",
    "\n",
    "reinicio = l0 + 1\n",
    "for i in range(l0+1,var):\n",
    "    for j in range(n):\n",
    "        M[j,i] = (r[j] * (x[j]^(i-(reinicio))))%11\n",
    "M"
   ]
  },
  {
   "cell_type": "code",
   "execution_count": 153,
   "metadata": {},
   "outputs": [
    {
     "data": {
      "text/plain": [
       "Vector space of degree 12 and dimension 2 over Finite Field of size 11\n",
       "Basis matrix:\n",
       "[ 1  0  8 10 10  9 10  2 10  1  3  9]\n",
       "[ 0  1  3  6  6  6  5  3  0 10  9  8]"
      ]
     },
     "execution_count": 153,
     "metadata": {},
     "output_type": "execute_result"
    }
   ],
   "source": [
    "# Ahora encontramos las varibales que multiplicando por M, dan como solucion \n",
    "# vector de 0, estos son los coeficientes del polinomio Q0 y Q1\n",
    "\n",
    "V = M.right_kernel()\n",
    "V"
   ]
  },
  {
   "cell_type": "code",
   "execution_count": 154,
   "metadata": {},
   "outputs": [],
   "source": [
    "# Elegimos coeficientes de Q0 y Q1\n",
    "\n",
    "c0 = [1,0,8,10,10,9,10,2]\n",
    "c1 = [10,1,3,9]"
   ]
  },
  {
   "cell_type": "code",
   "execution_count": 155,
   "metadata": {},
   "outputs": [],
   "source": [
    "# Definimos la variable X que nos permite crear luego los polinomio\n",
    "\n",
    "C.<X> = PolynomialRing(GF(11))"
   ]
  },
  {
   "cell_type": "code",
   "execution_count": 156,
   "metadata": {},
   "outputs": [
    {
     "name": "stdout",
     "output_type": "stream",
     "text": [
      "El polinomio Q0:  2*X^7 + 10*X^6 + 9*X^5 + 10*X^4 + 10*X^3 + 8*X^2 + 1\n"
     ]
    }
   ],
   "source": [
    "# Creamos los polinomios Q0\n",
    "\n",
    "Q0 = 0 \n",
    "\n",
    "for i in range(l0+1):\n",
    "    Q0 = Q0 + c0[i]*(X^i)\n",
    "    \n",
    "print(\"El polinomio Q0: \",Q0)"
   ]
  },
  {
   "cell_type": "code",
   "execution_count": 157,
   "metadata": {},
   "outputs": [
    {
     "name": "stdout",
     "output_type": "stream",
     "text": [
      "El polinomio Q1:  9*X^3 + 3*X^2 + X + 10\n"
     ]
    }
   ],
   "source": [
    "# Creamos los polinomios Q1\n",
    "\n",
    "Q1 = 0 \n",
    "\n",
    "for i in range(l1+1):\n",
    "    Q1 = Q1 + c1[i]*(X^i)\n",
    "\n",
    "print(\"El polinomio Q1: \",Q1)"
   ]
  },
  {
   "cell_type": "code",
   "execution_count": 158,
   "metadata": {},
   "outputs": [
    {
     "name": "stdout",
     "output_type": "stream",
     "text": [
      "El polinomio g:  X^4 + X^3 + X^2 + X + 1\n"
     ]
    }
   ],
   "source": [
    "# Ahora calculamos la G como viene en los apuntes\n",
    "# Y compruebo que la g obtenida es igual que la que ofrece el libro\n",
    "\n",
    "g = -Q0//Q1\n",
    "print(\"El polinomio g: \", g)"
   ]
  },
  {
   "cell_type": "code",
   "execution_count": 159,
   "metadata": {},
   "outputs": [
    {
     "name": "stdout",
     "output_type": "stream",
     "text": [
      "Descodificación: [5, 9, 0, 6, 0, 1, 0, 7, 0, 4]\n"
     ]
    }
   ],
   "source": [
    "# Ahora compruebo si g(x) ϵ Pk\n",
    "\n",
    "palabra = []\n",
    "\n",
    "for i in range(n):\n",
    "    palabra.append(g(x[i]))\n",
    "print(\"Descodificación:\", palabra)"
   ]
  },
  {
   "cell_type": "code",
   "execution_count": 160,
   "metadata": {},
   "outputs": [
    {
     "name": "stdout",
     "output_type": "stream",
     "text": [
      "Distancia:  2\n",
      "Los errores tienen lugar en las posiciones:  [4, 10]\n",
      "*******************************************************\n",
      "Por tanto se han corregido  2  errores, justo la capacidad correctora del codigo\n"
     ]
    }
   ],
   "source": [
    "# Y comprobamos si ha superado la capacidad correctora del codigo (2)\n",
    "\n",
    "dis = 0\n",
    "posiciones = []\n",
    "for i in range(len(palabra)):\n",
    "    if palabra[i] != r[i]:\n",
    "        dis += 1\n",
    "        posiciones.append(i+1)\n",
    "print(\"Distancia: \", dis)\n",
    "print(\"Los errores tienen lugar en las posiciones: \",posiciones)\n",
    "print(\"*******************************************************\")\n",
    "print(\"Por tanto se han corregido \",dis ,\" errores, justo la capacidad correctora del codigo\")"
   ]
  },
  {
   "cell_type": "markdown",
   "metadata": {},
   "source": [
    "## ----------------------------------            3.2            --------------------------------------"
   ]
  },
  {
   "cell_type": "code",
   "execution_count": 181,
   "metadata": {},
   "outputs": [],
   "source": [
    "# MÉTODO DE DECODIFICACION GENERAL\n",
    "# El metodo recibe f el cuerpo finito, n,k de un codigo red solomon, y r, la palabra que queremos decodificar\n",
    "\n",
    "def decoficacionUnica(q,n,k,r):\n",
    "    \n",
    "    C = GF(q)\n",
    "    \n",
    "    # Hallamos los parametros\n",
    "    d = n+1-k\n",
    "    \n",
    "    # Hallamos la capacidad correctora del codigo\n",
    "    t = math.floor((d-1)/2)\n",
    "    print(\"La capacidad correctora del codigo es: \",t)\n",
    "    # Ahora definimos l0 y l1\n",
    "    l0 = n - 1 - t\n",
    "    l1 = n - 1 - t - (k - 1)\n",
    "    \n",
    "    x = []\n",
    "    for k in range(n):\n",
    "        x.append((2^k)%q)\n",
    "        \n",
    "    # Hallamos el numero de variables que tenemos\n",
    "    var = (l0 + 1) + (l1 + 1)\n",
    "    var\n",
    "    \n",
    "    # Ahora creo la matriz generadora vacia de tamaño adecuado 12x10, rellena de 0\n",
    "    M = matrix(C,[[0]*var]*n)\n",
    "    \n",
    "    # Hasta aqui relleno la primera parte de la matriz M\n",
    "    # Introduzco mod11 puesto que el cuerpo finito es 11\n",
    "    for i in range(l0+1):\n",
    "        for j in range(n):\n",
    "            M[j,i] = ((x[j]^i)%q)\n",
    "    \n",
    "    # Rellena segunda parte de la matriz desde l0+1 hasta nº variables\n",
    "    reinicio = l0 + 1\n",
    "    for i in range(l0+1,var):\n",
    "        for j in range(n):\n",
    "            M[j,i] = (r[j] * (x[j]^(i-(reinicio))))%q\n",
    "            \n",
    "    # Ahora encontramos las varibales que multiplicando por M, dan como solucion \n",
    "    # vector de 0, estos son los coeficientes del polinomio Q0 y Q1\n",
    "    V = M.right_kernel()\n",
    "    \n",
    "    c0 = []\n",
    "    c1 = []\n",
    "    \n",
    "    # Elijo los coeficiente de c0 y c1\n",
    "    for w in range(l0+1):\n",
    "        c0.append(V[1][w])\n",
    "    for w in range(l0+1,var):\n",
    "        c1.append(V[1][w])\n",
    "        \n",
    "    C.<X> = PolynomialRing(GF(q))\n",
    "   \n",
    "    # Creamos los polinomios Q0\n",
    "    Q0 = 0 \n",
    "    for i in range(l0+1):\n",
    "        Q0 = Q0 + c0[i]*(X^i)\n",
    "\n",
    "    # Creamos los polinomios Q1\n",
    "    Q1 = 0 \n",
    "    for i in range(l1+1):\n",
    "        Q1 = Q1 + c1[i]*(X^i)\n",
    "        \n",
    "    # Ahora calculamos la G como viene en los apuntes\n",
    "    # Y compruebo que la g obtenida es igual que la que ofrece el libro\n",
    "    g = -Q0//Q1\n",
    "    \n",
    "    # Ahora compruebo si g(x) ϵ Pk\n",
    "    palabra = []\n",
    "    \n",
    "    # Palabra recibida\n",
    "    print(\"Palabra recibida: \",r)\n",
    "\n",
    "    for i in range(n):\n",
    "        palabra.append(g(x[i]))\n",
    "    print(\"Descodificación:\", palabra)\n",
    "    \n",
    "    # Y comprobamos si ha superado la capacidad correctora del codigo (2)\n",
    "\n",
    "    dis = 0\n",
    "    posiciones = []\n",
    "    for i in range(len(palabra)):\n",
    "        if palabra[i] != r[i]:\n",
    "            dis += 1\n",
    "            posiciones.append(i+1)\n",
    "    print(\"Distancia: \", dis)\n",
    "\n",
    "    if(dis > t):\n",
    "        print(\"La decodificacion no es correcta ya que la distancia es MAYOR que la capacidad correctora\")\n",
    "    else:\n",
    "        print(\"Los errores tienen lugar en las posiciones: \",posiciones)\n",
    "        print(\"*******************************************************\")\n",
    "        print(\"Por tanto se han corregido \", dis,\" errores, justo la capacidad correctora del codigo\")"
   ]
  },
  {
   "cell_type": "code",
   "execution_count": 182,
   "metadata": {},
   "outputs": [
    {
     "name": "stdout",
     "output_type": "stream",
     "text": [
      "\n",
      "#######################\n",
      "\n",
      "La capacidad correctora del codigo es:  2\n",
      "Palabra recibida:  [5, 9, 0, 9, 0, 1, 0, 7, 0, 5]\n",
      "Descodificación: [5, 9, 0, 6, 0, 1, 0, 7, 0, 4]\n",
      "Distancia:  2\n",
      "Los errores tienen lugar en las posiciones:  [4, 10]\n",
      "*******************************************************\n",
      "Por tanto se han corregido  2  errores, justo la capacidad correctora del codigo\n",
      "\n",
      "#######################\n",
      "\n",
      "La capacidad correctora del codigo es:  1\n",
      "Palabra recibida:  [1, 12, 1, 1, 1, 1, 1]\n",
      "Descodificación: [1, 1, 1, 1, 1, 1, 1]\n",
      "Distancia:  1\n",
      "Los errores tienen lugar en las posiciones:  [2]\n",
      "*******************************************************\n",
      "Por tanto se han corregido  1  errores, justo la capacidad correctora del codigo\n",
      "\n",
      "#######################\n",
      "\n",
      "La capacidad correctora del codigo es:  1\n",
      "Palabra recibida:  [1, 12, 16, 8, 1, 12, 1]\n",
      "Descodificación: [1, 1, 1, 1, 1, 1, 1]\n",
      "Distancia:  4\n",
      "La decodificacion no es correcta ya que la distancia es MAYOR que la capacidad correctora\n",
      "\n",
      "#######################\n",
      "\n"
     ]
    }
   ],
   "source": [
    "                            ####### DECODIFCICACIONES ######\n",
    "\n",
    "print(\"\\n#######################\\n\")\n",
    "\n",
    "# Prueba con el ejemplo del apartado 3.1 para ver si funciona\n",
    "n = 10\n",
    "k = 5\n",
    "r =  [5,9,0,9,0,1,0,7,0,5]\n",
    "q= 11\n",
    "decoficacionUnica(q,n,k,r)\n",
    "\n",
    "print(\"\\n#######################\\n\")\n",
    "\n",
    "# Otra prueba\n",
    "n = 7\n",
    "k = 5\n",
    "r =  [1,12,1,1,1,1,1]\n",
    "q= 16\n",
    "decoficacionUnica(q,n,k,r)\n",
    "\n",
    "print(\"\\n#######################\\n\")\n",
    "\n",
    "# Otra prueba\n",
    "n = 7\n",
    "k = 5\n",
    "r =  [1,12,16,8,1,12,1]\n",
    "q= 16\n",
    "decoficacionUnica(q,n,k,r)\n",
    "\n",
    "print(\"\\n#######################\\n\")"
   ]
  },
  {
   "cell_type": "markdown",
   "metadata": {},
   "source": [
    "## ----------------------------------            3.3            --------------------------------------"
   ]
  },
  {
   "cell_type": "code",
   "execution_count": 163,
   "metadata": {},
   "outputs": [
    {
     "name": "stdout",
     "output_type": "stream",
     "text": [
      "El polinomio irreducible:  x^4 + x + 1\n"
     ]
    }
   ],
   "source": [
    "# Definimos cuerpo finito 16, defino \"a\" como el alfa\n",
    "\n",
    "F = GF(16,'a')\n",
    "a = F.0\n",
    "\n",
    "print(\"El polinomio irreducible: \",F.modulus())\n",
    "\n",
    "#F.<a> = PolynomialRing(GF(16))"
   ]
  },
  {
   "cell_type": "code",
   "execution_count": 164,
   "metadata": {},
   "outputs": [
    {
     "data": {
      "text/plain": [
       "[15, 3, 13]"
      ]
     },
     "execution_count": 164,
     "metadata": {},
     "output_type": "execute_result"
    }
   ],
   "source": [
    "# Parametros del codigo que hemos definido\n",
    "\n",
    "n = 15\n",
    "k = 3\n",
    "d = n - k + 1\n",
    "[n,k,d]"
   ]
  },
  {
   "cell_type": "code",
   "execution_count": 165,
   "metadata": {},
   "outputs": [],
   "source": [
    "# Y ahora el tamaño de la lista y tau\n",
    "\n",
    "l = 2\n",
    "tau = 6"
   ]
  },
  {
   "cell_type": "code",
   "execution_count": 166,
   "metadata": {},
   "outputs": [
    {
     "data": {
      "text/plain": [
       "[1,\n",
       " a,\n",
       " a^2,\n",
       " a^3,\n",
       " a + 1,\n",
       " a^2 + a,\n",
       " a^3 + a^2,\n",
       " a^3 + a + 1,\n",
       " a^2 + 1,\n",
       " a^3 + a,\n",
       " a^2 + a + 1,\n",
       " a^3 + a^2 + a,\n",
       " a^3 + a^2 + a + 1,\n",
       " a^3 + a^2 + 1,\n",
       " a^3 + 1]"
      ]
     },
     "execution_count": 166,
     "metadata": {},
     "output_type": "execute_result"
    }
   ],
   "source": [
    "# Defino el vector x\n",
    "\n",
    "p = []\n",
    "for h in range(15):\n",
    "    p.append(a^h)\n",
    "p"
   ]
  },
  {
   "cell_type": "code",
   "execution_count": 167,
   "metadata": {},
   "outputs": [],
   "source": [
    "# Ahora en la decodificacion en lista el polinomio tiene dos variables x e y,\n",
    "# por tanto las definimos\n",
    "\n",
    "X,Y = PolynomialRing(F,2,['X','Y']).gens()"
   ]
  },
  {
   "cell_type": "code",
   "execution_count": 168,
   "metadata": {},
   "outputs": [
    {
     "data": {
      "text/plain": [
       "(a + 1,\n",
       " a^2 + a,\n",
       " 1,\n",
       " a^3 + a^2 + a,\n",
       " a^2 + a + 1,\n",
       " a^2 + 1,\n",
       " a^3 + a^2 + 1,\n",
       " a^3 + a + 1,\n",
       " a^2,\n",
       " 1,\n",
       " a^2 + a,\n",
       " a^2 + a,\n",
       " 0,\n",
       " a^2 + a + 1,\n",
       " a^3)"
      ]
     },
     "execution_count": 168,
     "metadata": {},
     "output_type": "execute_result"
    }
   ],
   "source": [
    "# Definimos la palabra recibida\n",
    "# r = (a^4,a^5,1,a^11,a^10,a^8,a^13,a^7,a^2,1,a^5,a^5,0,a^10)\n",
    "\n",
    "r = (a^4, a^5, 1, a^11,a^10,a^8,a^13,a^7,a^2,1,a^5,a^5,0,a^10,a^3)\n",
    "r"
   ]
  },
  {
   "cell_type": "code",
   "execution_count": 169,
   "metadata": {},
   "outputs": [],
   "source": [
    "#Matriz generadora\n",
    "G = matrix(F, [[0] * n] * n)\n",
    "for i in range(n):\n",
    "    for j in range(n):\n",
    "        G[i,j] = p[i]^j\n",
    "        \n",
    "#Definimos el codigo\n",
    "C = LinearCode(G)"
   ]
  },
  {
   "cell_type": "code",
   "execution_count": 183,
   "metadata": {
    "scrolled": true
   },
   "outputs": [
    {
     "name": "stdout",
     "output_type": "stream",
     "text": [
      "[1 0 0 0 0 0 0]\n",
      "[0 1 0 0 0 0 0]\n",
      "[0 0 1 0 0 0 0]\n",
      "[0 0 0 1 0 0 0]\n",
      "[0 0 0 0 1 0 0]\n",
      "[0 0 0 0 0 1 0]\n",
      "[0 0 0 0 0 0 1]\n",
      "[]\n",
      "[]\n",
      "******** SOLUCIONES ********\n",
      "Vector space of degree 0 and dimension 0 over Finite Field in a of size 2^4\n",
      "Basis matrix:\n",
      "[]\n",
      "[1 0 0 0 0 0 0]\n",
      "[0 0 0 0 0 0 0]\n",
      "[0 0 0 0 0 0 0]\n",
      "[0 0 0 0 0 0 0]\n",
      "[0 0 0 0 1 0 0]\n",
      "[0 0 0 0 0 0 0]\n",
      "[0 0 0 0 0 0 1]\n",
      "[]\n",
      "[]\n",
      "******** SOLUCIONES ********\n",
      "Vector space of degree 0 and dimension 0 over Finite Field in a of size 2^4\n",
      "Basis matrix:\n",
      "[]\n",
      "[1 0 0 0 0 0 0]\n",
      "[0 0 0 0 0 0 0]\n",
      "[0 0 0 0 0 0 0]\n",
      "[0 0 0 0 0 0 0]\n",
      "[0 0 0 0 1 0 0]\n",
      "[0 0 0 0 0 0 0]\n",
      "[0 0 0 0 0 0 1]\n",
      "[]\n",
      "[]\n",
      "******** SOLUCIONES ********\n",
      "Vector space of degree 0 and dimension 0 over Finite Field in a of size 2^4\n",
      "Basis matrix:\n",
      "[]\n"
     ]
    }
   ],
   "source": [
    "# Empezamos a crear las matrices necesarias como indica el punto\n",
    "# Algorithm 4.3.1 del libro\n",
    "# Sumatorio\n",
    "\n",
    "for j in range(l+1):\n",
    "\n",
    "    # PRIMERA\n",
    "    #TOTAL = matrix(F,[[0]*n]* (3*n))\n",
    "    M = matrix(F,[[0] * n] * n)\n",
    "    for i in range(n):\n",
    "        M[i,i] = r[i]^j\n",
    "    #print(\"Primera matriz: \\n\")\n",
    "    print(M)\n",
    "    #print(\"\\n\")\n",
    "    \n",
    "    # SEGUNDA\n",
    "    lj = n-tau-1-j*(k-1)\n",
    "    \n",
    "    #print(\"Parametros: \",n,tau,j,k)\n",
    "    #print(\"EL VALOR DE LJ ES :         \", lj)\n",
    "\n",
    "    N = matrix(F, [[0] * lj] * n)\n",
    "    \n",
    "    for j in range(lj):\n",
    "         for i in range(n):\n",
    "            N[i,j] = p[i]^j\n",
    "            \n",
    "    #print(\"Segunda matriz: \\n\")\n",
    "    print(N)\n",
    "    #print(\"\\n\")\n",
    "    \n",
    "    # Ahora ya tengo ambas matrices, queda multiplicarlas\n",
    "    T = M * N\n",
    "        \n",
    "    #print(\"La multiplicación es: \\n\")\n",
    "    print(T)\n",
    "    #print(\"\\n\")\n",
    "    \n",
    "    #Hallamos la solucion \n",
    "    A = T.right_kernel()\n",
    "    print(\"******** SOLUCIONES ********\")\n",
    "    print(A)    \n",
    "    \n",
    "    # Ahora una vez halladas las soluciones hallamos Qj(x) y Q(x,y)\n",
    "    # Siempre que haya solucion por tanto como esttamos en un bucle  \n",
    "    # Si existe solucion creamos los polinomios\n",
    "    \n",
    "    # De aqui hacia abajo, el código que hay es porque en su día pense que estaba bien \n",
    "    # y encontraba soluciones, pero debia estar mal, y lo he dejado \n",
    "    \n",
    "    if(len(A) > 1):\n",
    "        Qxy = 0\n",
    "        Qj = 0\n",
    "        \n",
    "        # A ofrece dos soluciones elegimos una de ellas\n",
    "        sol = A[1]\n",
    "        for w in range(lj):\n",
    "            # Con esto completo el poliniomio Qj\n",
    "            Qj = Qj + sol[w] * (X^w)\n",
    "            \n",
    "        # Con esto Qxy\n",
    "        Qxy = Qxy + Qj * (Y^j)"
   ]
  },
  {
   "cell_type": "code",
   "execution_count": 171,
   "metadata": {},
   "outputs": [
    {
     "name": "stdout",
     "output_type": "stream",
     "text": [
      "Q(X,Y):  X^3 + X^2*Y + (a + 1)*X^2 + Y^2 + X + Y + (a^2 + a)\n"
     ]
    }
   ],
   "source": [
    "# En el cuadro de codigo anterior no he conseguido obtener el polinomio Qxy, puesto que no me salen soluciones\n",
    "# por tanto como pone en el apartado 4.3.1 del libro tomo como Q(x,y) =  (Y+X+a)(Y+X^2+X+a^4)\n",
    "\n",
    "Qxy = (Y+X+a)*(Y+X^2+X+a^4)\n",
    "print(\"Q(X,Y): \", Qxy)"
   ]
  },
  {
   "cell_type": "code",
   "execution_count": 172,
   "metadata": {},
   "outputs": [
    {
     "data": {
      "text/plain": [
       "[(X + Y + (a), 1), (X^2 + X + Y + (a + 1), 1)]"
      ]
     },
     "execution_count": 172,
     "metadata": {},
     "output_type": "execute_result"
    }
   ],
   "source": [
    "# El siguiente paso es encontrar los factores de Q(x,y) de la forma\n",
    "# (y-f(x)) con deg f(x) < k, obteniendo una lista con todos los factores\n",
    "# anteriores que verifican d((f(x1),...f(xn)),(r1,...,r2)) <= tau\n",
    "factores = list(Qxy.factor())\n",
    "factores"
   ]
  },
  {
   "cell_type": "code",
   "execution_count": 173,
   "metadata": {},
   "outputs": [
    {
     "data": {
      "text/plain": [
       "[(X + Y + (a), 1), (X^2 + X + Y + (a + 1), 1)]"
      ]
     },
     "execution_count": 173,
     "metadata": {},
     "output_type": "execute_result"
    }
   ],
   "source": [
    "listaFactores = list(factores)\n",
    "\n",
    "# [i][0] (factor) [i][1] (grado)\n",
    "listaFactores"
   ]
  },
  {
   "cell_type": "code",
   "execution_count": 174,
   "metadata": {},
   "outputs": [
    {
     "name": "stdout",
     "output_type": "stream",
     "text": [
      "(1, 1)\n",
      "(2, 1)\n",
      "\n",
      "- La lista de los candidatos es:  [X + (a), X^2 + X + (a + 1)]\n"
     ]
    }
   ],
   "source": [
    "# De todos los posibles candidatos unicamente nos quedamos\n",
    "# con los que cumplen las condiciones\n",
    "\n",
    "listaCumplen = []\n",
    "for i in range(len(listaFactores)):\n",
    "    gradoFactor = listaFactores[i][0].degrees()\n",
    "    print(gradoFactor)\n",
    "    if gradoFactor[1] == 1 and gradoFactor[0] < k:\n",
    "        listaCumplen.append((listaFactores[i][0] - Y))\n",
    "print(\"\\n- La lista de los candidatos es: \",listaCumplen)"
   ]
  },
  {
   "cell_type": "code",
   "execution_count": 175,
   "metadata": {},
   "outputs": [],
   "source": [
    "# NO HE SABIDO SEGUIR :("
   ]
  },
  {
   "cell_type": "markdown",
   "metadata": {},
   "source": [
    "## ----------------------------------            3.4            --------------------------------------"
   ]
  },
  {
   "cell_type": "code",
   "execution_count": 176,
   "metadata": {},
   "outputs": [],
   "source": [
    "#   ------------------------------------------------------   #"
   ]
  },
  {
   "cell_type": "code",
   "execution_count": 177,
   "metadata": {},
   "outputs": [],
   "source": [
    "#                       EJERCICIO 4                          #"
   ]
  },
  {
   "cell_type": "code",
   "execution_count": 178,
   "metadata": {},
   "outputs": [],
   "source": [
    "#   ------------------------------------------------------   #"
   ]
  },
  {
   "cell_type": "code",
   "execution_count": 82,
   "metadata": {},
   "outputs": [],
   "source": [
    "# Función que introduzca con una probabilidad de mi eleccion un error en cada bit"
   ]
  },
  {
   "cell_type": "code",
   "execution_count": 184,
   "metadata": {},
   "outputs": [],
   "source": [
    "# Valor probabilidad\n",
    "prob = 0.5\n",
    "# Valor del cuerpo finito\n",
    "q = 5\n",
    "# Defino una palaba de ejemplo\n",
    "c = [3,1,3,4,2,1,0]\n",
    "\n",
    "def introducirError(palabra,p,q):\n",
    "    for i in range(len(palabra)):\n",
    "        probAleat = random()\n",
    "        \n",
    "        # Printeo la probabilidad, para comprobar si cuando es menor genera random\n",
    "        #print(probAleat)\n",
    "        \n",
    "        if probAleat < p:\n",
    "            \n",
    "            # Metemos un numero de 0 a q, que seria lo mismo que un int aleatorio y hacer mod q\n",
    "            \n",
    "            # Si fuese con un codigo binario:\n",
    "            \n",
    "            # if palabra[i] == 1:\n",
    "            #     palabra[i] = 0\n",
    "            # if palabra[i] == 0:\n",
    "            #     palabra[i] = 1\n",
    "            \n",
    "            palabra[i] = randint(0,q)\n",
    "    return palabra"
   ]
  },
  {
   "cell_type": "code",
   "execution_count": 185,
   "metadata": {},
   "outputs": [
    {
     "name": "stdout",
     "output_type": "stream",
     "text": [
      "Palabra original:  [3, 1, 3, 4, 2, 1, 0]\n"
     ]
    },
    {
     "data": {
      "text/plain": [
       "[2, 1, 1, 4, 5, 3, 4]"
      ]
     },
     "execution_count": 185,
     "metadata": {},
     "output_type": "execute_result"
    }
   ],
   "source": [
    "print(\"Palabra original: \", c)\n",
    "introducirError(c,prob,q)"
   ]
  },
  {
   "cell_type": "markdown",
   "metadata": {},
   "source": [
    "##### -----------------------------\n"
   ]
  },
  {
   "cell_type": "code",
   "execution_count": 85,
   "metadata": {},
   "outputs": [],
   "source": [
    "# Probabilidad de que la palabra sea decodificada correctamente\n",
    "\n",
    "# Para probabilidad 0.5 y un codigo C, para ver si se clasifica correctamente\n",
    "# tendremos que realizar un número significativo de pruebas y ver si la decodi_\n",
    "# fica correctamente o no y hallar esa probabilidad"
   ]
  },
  {
   "cell_type": "code",
   "execution_count": 210,
   "metadata": {},
   "outputs": [
    {
     "name": "stdout",
     "output_type": "stream",
     "text": [
      "La palabra del codigo es  (0, 1, 2, 3)\n",
      "La probabilidad de cambio en el bit es  0.5\n",
      "El cuerpo finito que hemos definido es F 5\n"
     ]
    }
   ],
   "source": [
    "# Mismo código que en el parcial 1 de 2022, en cuerpo F5\n",
    "\n",
    "M2 = matrix(GF(5),[[1,1,1,1],[1,2,3,4]])\n",
    "C2 = LinearCode(M2)\n",
    "\n",
    "# PARAMETROS DEL METODO\n",
    "primeraPalabra = C2.random_element()\n",
    "numeroReps = 20000\n",
    "p = 0.5\n",
    "q = 5\n",
    "\n",
    "print(\"La palabra del codigo es \", primeraPalabra)\n",
    "print(\"La probabilidad de cambio en el bit es \", round(p,3))\n",
    "print(\"El cuerpo finito que hemos definido es F\",q)"
   ]
  },
  {
   "cell_type": "code",
   "execution_count": 211,
   "metadata": {},
   "outputs": [
    {
     "name": "stdout",
     "output_type": "stream",
     "text": [
      "20000  ITERACIONES\n",
      "\n"
     ]
    }
   ],
   "source": [
    "contadorCorrectos = 0\n",
    "print(numeroReps,\" ITERACIONES\\n\")\n",
    "\n",
    "for i in range(numeroReps):\n",
    "    \n",
    "    copiaPalabra = copy(primeraPalabra)\n",
    "    r = introducirError(copiaPalabra,p,q)\n",
    "    #print(\"La palabra modificada es \",r)\n",
    "    decodificada = C2.decode_to_code(r)\n",
    "    #print(\"La palabra decodificada es \", decodificada)\n",
    "    \n",
    "    if decodificada == primeraPalabra : \n",
    "        contadorCorrectos = contadorCorrectos + 1\n",
    "        #print(\"Decodifica bien\\n\")\n",
    "    else:\n",
    "        #print(\"Decodifica mal\\n\")\n",
    "        continue"
   ]
  },
  {
   "cell_type": "code",
   "execution_count": 212,
   "metadata": {},
   "outputs": [
    {
     "name": "stdout",
     "output_type": "stream",
     "text": [
      "La probabilidad de que la decodifique correctamente es -->  0.50465\n",
      "El porcentaje de buenas decodificaciones es -->  50.465 %\n"
     ]
    }
   ],
   "source": [
    "probabilidadCorrecta = float(contadorCorrectos/numeroReps)\n",
    "print(\"La probabilidad de que la decodifique correctamente es --> \", probabilidadCorrecta)\n",
    "print(\"El porcentaje de buenas decodificaciones es --> \", probabilidadCorrecta*100,\"%\")"
   ]
  },
  {
   "cell_type": "code",
   "execution_count": 94,
   "metadata": {},
   "outputs": [],
   "source": [
    "### EN VARIAS PRUEBAS SE PUEDE VER QUE AL AUMENTAR LA PROBABILIDAD DE CAMBIO\n",
    "### SE REDUCE EL PORCENTAJE DE BUENAS DECODIFICACIONES ES PRACTICAMENTE\n",
    "### INVERSAMENTE PROPORCIONAL, SI PONEMOS p=0.5 EL % DE BUENAS DECODIFICACIONES ESTÁ ENTORNO AL 50%\n",
    "### SI AUMENTAMOS LAS ITERACIONES CADA VEZ SE APROXIMA MÁS A ESE 50% EXACTO\n",
    "\n",
    "### SIN EMBARGO, SI AUMENTAMOS LA PROBABILIDAD DE MODIFICACION DE UN BIT A 0.7, EL % DE BUENA DECODIFICACIONES\n",
    "### SE REDUCE ENTORNO AL 30%\n",
    "\n",
    "### Y SI HACEMOS LO CONTRARIO, REDUCIR LA PROBABILIDAD DE ERROR A UN 0.2, EL % DE BUENAS DECODIFICACIONES AUMENTA \n",
    "### CERCA DEL 80% "
   ]
  }
 ],
 "metadata": {
  "kernelspec": {
   "display_name": "SageMath 9.3",
   "language": "sage",
   "name": "sagemath"
  }
 },
 "nbformat": 4,
 "nbformat_minor": 4
}
